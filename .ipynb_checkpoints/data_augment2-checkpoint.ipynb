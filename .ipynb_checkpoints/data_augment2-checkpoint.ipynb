{
 "cells": [
  {
   "cell_type": "code",
   "execution_count": 1,
   "metadata": {},
   "outputs": [
    {
     "name": "stderr",
     "output_type": "stream",
     "text": [
      "Using TensorFlow backend.\n"
     ]
    }
   ],
   "source": [
    "#Balancing dataset \n",
    "import tensorflow as tf\n",
    "import numpy as np\n",
    "import pandas as pd\n",
    "from glob import glob\n",
    "from keras.preprocessing.image import ImageDataGenerator\n",
    "\n",
    "\n",
    "\n",
    "\n",
    "labels = [] # Create some unbalanced dataset\n",
    "normal_files = glob('/Users/jangjaeyeong/3학년 2학기/오픈소스소프트웨어/project/chest_xray/train/NORMAL/*.jpeg')\n",
    "\n",
    "for i in range(len(normal_files)):\n",
    "    labels.append('NORMAL')\n",
    "abnormal_files = glob('/Users/jangjaeyeong/3학년 2학기/오픈소스소프트웨어/project/chest_xray/train/PNEUMONIA/*.jpeg')\n",
    "\n",
    "for i in range(len(abnormal_files)):\n",
    "    labels.append('PNEUMONIA')\n",
    "\n",
    "\n",
    "total_files = normal_files+abnormal_files\n",
    "\n",
    "# Create a dataframe\n",
    "df = pd.DataFrame({'img_path':total_files,'label':labels})\n",
    "\n",
    "\n",
    "\n",
    "def balance_data(df,target_size=5000):\n",
    "\n",
    "\n",
    "    df_groups = df.groupby(['label'])\n",
    "    df_balanced = pd.DataFrame({key:[] for key in df.keys()})\n",
    "\n",
    "    for i in df_groups.groups.keys():\n",
    "        df_group = df_groups.get_group(i)\n",
    "        df_label = df_group.sample(frac=1)\n",
    "        current_size = len(df_label)\n",
    "\n",
    "        if current_size >= target_size:\n",
    "            # If current size is big enough, do nothing\n",
    "            pass\n",
    "        else:\n",
    "\n",
    "            # Repeat the current dataset if it is smaller than target_size \n",
    "            repeat, mod = divmod(target_size,current_size)\n",
    "            \n",
    "\n",
    "            df_label_new = pd.concat([df_label]*repeat,ignore_index=True,axis=0)\n",
    "            df_label_remainder = df_group.sample(n=mod)\n",
    "\n",
    "            df_label_new = pd.concat([df_label_new,df_label_remainder],ignore_index=True,axis=0)\n",
    "\n",
    "            # print(df_label_new)\n",
    "\n",
    "        df_balanced = pd.concat([df_balanced,df_label_new],ignore_index=True,axis=0)\n",
    "\n",
    "\n",
    "    return df_balanced\n",
    "\n"
   ]
  },
  {
   "cell_type": "code",
   "execution_count": 14,
   "metadata": {},
   "outputs": [
    {
     "name": "stdout",
     "output_type": "stream",
     "text": [
      "Found 8000 validated image filenames belonging to 2 classes.\n",
      "Found 2000 validated image filenames belonging to 2 classes.\n"
     ]
    }
   ],
   "source": [
    "df_balanced = balance_data(df)\n",
    "\n",
    "\n",
    "train_datagen_2 = ImageDataGenerator(\n",
    "    rotation_range=10,\n",
    "    rescale = 1./255,\n",
    "    shear_range = 0.2,\n",
    "    width_shift_range=0.05,\n",
    "    height_shift_range=0.05,\n",
    "    zoom_range = 0.2,\n",
    "    validation_split=0.2\n",
    "    )\n",
    "\n",
    "train_data_2 = train_datagen_2.flow_from_dataframe(\n",
    "            dataframe=df_balanced,\n",
    "            x_col=\"img_path\",\n",
    "            y_col=\"label\",\n",
    "            class_mode=\"binary\",\n",
    "            target_size =(224,224),\n",
    "            batch_size=64,\n",
    "            shuffle=True,\n",
    "            subset='training'\n",
    "            )\n",
    "val_data = train_datagen_2.flow_from_dataframe(\n",
    "            dataframe=df_balanced,\n",
    "            x_col=\"img_path\",\n",
    "            y_col=\"label\",\n",
    "            class_mode=\"binary\",\n",
    "            target_size =(224,224),\n",
    "            batch_size=64,\n",
    "            shuffle=True,\n",
    "            subset='validation'\n",
    "            )\n",
    "\n",
    "\n",
    "test_gen = tf.keras.preprocessing.image.ImageDataGenerator(rescale= 1./225)\n"
   ]
  },
  {
   "cell_type": "code",
   "execution_count": 15,
   "metadata": {},
   "outputs": [
    {
     "name": "stdout",
     "output_type": "stream",
     "text": [
      "Found 624 images belonging to 2 classes.\n"
     ]
    }
   ],
   "source": [
    "test_dir = '/Users/jangjaeyeong/3학년 2학기/오픈소스소프트웨어/project/chest_xray/test'\n",
    "\n",
    "\n",
    "test_data = test_gen.flow_from_directory(test_dir,\n",
    "                                         target_size = (224,224),\n",
    "                                         class_mode = \"binary\",\n",
    "                                         batch_size = 64,\n",
    "                                         )"
   ]
  },
  {
   "cell_type": "code",
   "execution_count": 16,
   "metadata": {},
   "outputs": [],
   "source": [
    "#Resnet50을 재사용\n",
    "from tensorflow.keras import layers\n",
    "\n",
    "base_model = tf.keras.applications.ResNet50V2(include_top= False, input_shape=(224,224,3), weights= \"imagenet\")\n",
    "for layer in base_model.layers:\n",
    "    base_model.trainable = False\n",
    "\n",
    "resnet_model = tf.keras.Sequential([\n",
    "                                    base_model,\n",
    "                                    layers.GlobalAveragePooling2D(),\n",
    "                                    layers.Dense(1, activation=\"sigmoid\")\n",
    "])"
   ]
  },
  {
   "cell_type": "code",
   "execution_count": 17,
   "metadata": {},
   "outputs": [
    {
     "name": "stdout",
     "output_type": "stream",
     "text": [
      "Model: \"sequential_2\"\n",
      "_________________________________________________________________\n",
      "Layer (type)                 Output Shape              Param #   \n",
      "=================================================================\n",
      "resnet50v2 (Model)           (None, 7, 7, 2048)        23564800  \n",
      "_________________________________________________________________\n",
      "global_average_pooling2d_2 ( (None, 2048)              0         \n",
      "_________________________________________________________________\n",
      "dense_2 (Dense)              (None, 1)                 2049      \n",
      "=================================================================\n",
      "Total params: 23,566,849\n",
      "Trainable params: 2,049\n",
      "Non-trainable params: 23,564,800\n",
      "_________________________________________________________________\n"
     ]
    }
   ],
   "source": [
    "resnet_model.summary()"
   ]
  },
  {
   "cell_type": "code",
   "execution_count": 18,
   "metadata": {},
   "outputs": [],
   "source": [
    "resnet_model.compile(\n",
    "    loss = tf.keras.losses.binary_crossentropy,\n",
    "    optimizer = tf.keras.optimizers.Adam(learning_rate= 0.001),\n",
    "    metrics = [\"accuracy\"]\n",
    ")"
   ]
  },
  {
   "cell_type": "code",
   "execution_count": 19,
   "metadata": {},
   "outputs": [
    {
     "name": "stdout",
     "output_type": "stream",
     "text": [
      "Train for 125 steps, validate for 32 steps\n",
      "Epoch 1/10\n",
      "125/125 [==============================] - 968s 8s/step - loss: 0.2997 - accuracy: 0.8781 - val_loss: 0.9357 - val_accuracy: 0.5020\n",
      "Epoch 2/10\n",
      "125/125 [==============================] - 960s 8s/step - loss: 0.1931 - accuracy: 0.9301 - val_loss: 0.6897 - val_accuracy: 0.6605\n",
      "Epoch 3/10\n",
      "125/125 [==============================] - 931s 7s/step - loss: 0.1726 - accuracy: 0.9358 - val_loss: 0.2455 - val_accuracy: 0.9020\n",
      "Epoch 4/10\n",
      "125/125 [==============================] - 939s 8s/step - loss: 0.1570 - accuracy: 0.9420 - val_loss: 0.5750 - val_accuracy: 0.7325\n",
      "Epoch 5/10\n",
      "125/125 [==============================] - 932s 7s/step - loss: 0.1526 - accuracy: 0.9435 - val_loss: 0.4156 - val_accuracy: 0.8105\n",
      "Epoch 6/10\n",
      "125/125 [==============================] - 933s 7s/step - loss: 0.1440 - accuracy: 0.9465 - val_loss: 0.3554 - val_accuracy: 0.8380\n",
      "Epoch 7/10\n",
      "125/125 [==============================] - 1380s 11s/step - loss: 0.1377 - accuracy: 0.9496 - val_loss: 0.2785 - val_accuracy: 0.8805\n",
      "Epoch 8/10\n",
      "125/125 [==============================] - 1063s 9s/step - loss: 0.1393 - accuracy: 0.9489 - val_loss: 0.3398 - val_accuracy: 0.8510\n"
     ]
    }
   ],
   "source": [
    "#2번 데이터 먼저 학습\n",
    "early_stopping_cb = tf.keras.callbacks.EarlyStopping(patience=5,restore_best_weights=True)\n",
    "\n",
    "\n",
    "history = resnet_model.fit(train_data_2,\n",
    "                 epochs = 10,\n",
    "                 steps_per_epoch= len(train_data_2),\n",
    "                 validation_data = val_data,\n",
    "                 validation_steps = len(val_data),\n",
    "                 callbacks = [early_stopping_cb]\n",
    "                 )"
   ]
  },
  {
   "cell_type": "code",
   "execution_count": 20,
   "metadata": {},
   "outputs": [],
   "source": [
    "resnet_model.save_weights('2_all_nontrainable.h5')"
   ]
  },
  {
   "cell_type": "code",
   "execution_count": 21,
   "metadata": {},
   "outputs": [
    {
     "name": "stdout",
     "output_type": "stream",
     "text": [
      "10/10 [==============================] - 53s 5s/step - loss: 0.3746 - accuracy: 0.8478\n",
      "Resnet Model Accuracy:  84.78%\n"
     ]
    }
   ],
   "source": [
    "resnet_model_evaluation = resnet_model.evaluate(test_data)\n",
    "print(f\"Resnet Model Accuracy: {resnet_model_evaluation[1]*100: 0.2f}%\")"
   ]
  },
  {
   "cell_type": "code",
   "execution_count": 23,
   "metadata": {},
   "outputs": [
    {
     "data": {
      "image/png": "[encoded data removed]",
      "text/plain": [
       "<Figure size 432x288 with 1 Axes>"
      ]
     },
     "metadata": {
      "needs_background": "light"
     },
     "output_type": "display_data"
    }
   ],
   "source": [
    "import matplotlib.pyplot as plt\n",
    "#accuracy plot\n",
    "plt.plot(history.history['accuracy'])\n",
    "plt.plot(history.history['val_accuracy'])\n",
    "plt.title('Model accuracy')\n",
    "plt.xlabel('Epoch')\n",
    "plt.ylabel('Accuracy')\n",
    "plt.legend(['Train', 'Validation'], loc='upper left')\n",
    "plt.show()"
   ]
  },
  {
   "cell_type": "code",
   "execution_count": 24,
   "metadata": {},
   "outputs": [
    {
     "data": {
      "image/png": "[encoded data removed]",
      "text/plain": [
       "<Figure size 432x288 with 1 Axes>"
      ]
     },
     "metadata": {
      "needs_background": "light"
     },
     "output_type": "display_data"
    }
   ],
   "source": [
    "#loss plot\n",
    "plt.plot(history.history['loss'])\n",
    "plt.plot(history.history['val_loss'])\n",
    "plt.title('Model loss')\n",
    "plt.xlabel('Epoch')\n",
    "plt.ylabel('Loss')\n",
    "plt.legend(['Train', 'Validation'], loc='upper left')\n",
    "plt.show()"
   ]
  },
  {
   "cell_type": "code",
   "execution_count": 25,
   "metadata": {},
   "outputs": [
    {
     "name": "stdout",
     "output_type": "stream",
     "text": [
      "Train for 125 steps, validate for 32 steps\n",
      "Epoch 1/10\n",
      "125/125 [==============================] - 909s 7s/step - loss: 0.1686 - accuracy: 0.9351 - val_loss: 0.3918 - val_accuracy: 0.8320\n",
      "Epoch 2/10\n",
      "125/125 [==============================] - 1214s 10s/step - loss: 0.1512 - accuracy: 0.9430 - val_loss: 0.2145 - val_accuracy: 0.9110\n",
      "Epoch 3/10\n",
      "125/125 [==============================] - 922s 7s/step - loss: 0.1442 - accuracy: 0.9471 - val_loss: 0.2292 - val_accuracy: 0.9015\n",
      "Epoch 4/10\n",
      "125/125 [==============================] - 838s 7s/step - loss: 0.1345 - accuracy: 0.9501 - val_loss: 0.2612 - val_accuracy: 0.8935\n",
      "Epoch 5/10\n",
      "125/125 [==============================] - 854s 7s/step - loss: 0.1336 - accuracy: 0.9513 - val_loss: 0.1939 - val_accuracy: 0.9180\n",
      "Epoch 6/10\n",
      "125/125 [==============================] - 913s 7s/step - loss: 0.1353 - accuracy: 0.9509 - val_loss: 0.1799 - val_accuracy: 0.9275\n",
      "Epoch 7/10\n",
      "125/125 [==============================] - 926s 7s/step - loss: 0.1293 - accuracy: 0.9529 - val_loss: 0.1786 - val_accuracy: 0.9355\n",
      "Epoch 8/10\n",
      "125/125 [==============================] - 30214s 242s/step - loss: 0.1254 - accuracy: 0.9535 - val_loss: 0.3487 - val_accuracy: 0.8515\n",
      "Epoch 9/10\n",
      "125/125 [==============================] - 914s 7s/step - loss: 0.1222 - accuracy: 0.9551 - val_loss: 0.1541 - val_accuracy: 0.9435\n",
      "Epoch 10/10\n",
      "125/125 [==============================] - 1078s 9s/step - loss: 0.1184 - accuracy: 0.9566 - val_loss: 0.2107 - val_accuracy: 0.9135\n"
     ]
    }
   ],
   "source": [
    "for layer in base_model.layers[:-5]:\n",
    "    base_model.trainable = False\n",
    "    \n",
    "\n",
    "resnet_model = tf.keras.Sequential([\n",
    "                                    base_model,\n",
    "                                    layers.GlobalAveragePooling2D(),\n",
    "                                    layers.Dense(1, activation=\"sigmoid\")\n",
    "])\n",
    "resnet_model.load_weights('2_all_nontrainable.h5')\n",
    "\n",
    "resnet_model.compile(\n",
    "    loss = tf.keras.losses.binary_crossentropy,\n",
    "    optimizer = tf.keras.optimizers.Adam(learning_rate= 0.001),\n",
    "    metrics = [\"accuracy\"]\n",
    ")\n",
    "\n",
    "#1번 데이터 먼저 학습\n",
    "early_stopping_cb = tf.keras.callbacks.EarlyStopping(patience=5,restore_best_weights=True)\n",
    "\n",
    "\n",
    "history = resnet_model.fit(train_data_2,\n",
    "                 epochs = 10,\n",
    "                 steps_per_epoch= len(train_data_2),\n",
    "                 validation_data = val_data,\n",
    "                 validation_steps = len(val_data),\n",
    "                 callbacks = [early_stopping_cb]\n",
    "                 )\n",
    "\n",
    "resnet_model.save_weights('2_5_layer_nontrainable.h5')\n"
   ]
  },
  {
   "cell_type": "code",
   "execution_count": 26,
   "metadata": {},
   "outputs": [
    {
     "name": "stdout",
     "output_type": "stream",
     "text": [
      "10/10 [==============================] - 47s 5s/step - loss: 0.3566 - accuracy: 0.8654\n",
      "Resnet Model Accuracy:  86.54%\n"
     ]
    }
   ],
   "source": [
    "resnet_model_evaluation = resnet_model.evaluate(test_data)\n",
    "print(f\"Resnet Model Accuracy: {resnet_model_evaluation[1]*100: 0.2f}%\")"
   ]
  },
  {
   "cell_type": "code",
   "execution_count": 28,
   "metadata": {},
   "outputs": [
    {
     "data": {
      "image/png": "[encoded data removed]",
      "text/plain": [
       "<Figure size 432x288 with 1 Axes>"
      ]
     },
     "metadata": {
      "needs_background": "light"
     },
     "output_type": "display_data"
    }
   ],
   "source": [
    "\n",
    "#accuracy plot\n",
    "plt.plot(history.history['accuracy'])\n",
    "plt.plot(history.history['val_accuracy'])\n",
    "plt.title('Model accuracy')\n",
    "plt.xlabel('Epoch')\n",
    "plt.ylabel('Accuracy')\n",
    "plt.legend(['Train', 'Validation'], loc='upper left')\n",
    "plt.show()"
   ]
  },
  {
   "cell_type": "code",
   "execution_count": 30,
   "metadata": {},
   "outputs": [
    {
     "data": {
      "image/png": "[encoded data removed]",
      "text/plain": [
       "<Figure size 432x288 with 1 Axes>"
      ]
     },
     "metadata": {
      "needs_background": "light"
     },
     "output_type": "display_data"
    }
   ],
   "source": [
    "#loss plot\n",
    "plt.plot(history.history['loss'])\n",
    "plt.plot(history.history['val_loss'])\n",
    "plt.title('Model loss')\n",
    "plt.xlabel('Epoch')\n",
    "plt.ylabel('Loss')\n",
    "plt.legend(['Train', 'Validation'], loc='upper left')\n",
    "plt.show()"
   ]
  },
  {
   "cell_type": "code",
   "execution_count": null,
   "metadata": {},
   "outputs": [],
   "source": []
  }
 ],
 "metadata": {
  "kernelspec": {
   "display_name": "aiclass",
   "language": "python",
   "name": "aiclass"
  },
  "language_info": {
   "codemirror_mode": {
    "name": "ipython",
    "version": 3
   },
   "file_extension": ".py",
   "mimetype": "text/x-python",
   "name": "python",
   "nbconvert_exporter": "python",
   "pygments_lexer": "ipython3",
   "version": "3.7.7"
  }
 },
 "nbformat": 4,
 "nbformat_minor": 4
}
