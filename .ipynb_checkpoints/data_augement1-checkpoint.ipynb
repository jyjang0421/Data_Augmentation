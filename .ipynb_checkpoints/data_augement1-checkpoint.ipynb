{
 "cells": [
  {
   "cell_type": "code",
   "execution_count": 2,
   "metadata": {},
   "outputs": [
    {
     "name": "stderr",
     "output_type": "stream",
     "text": [
      "Using TensorFlow backend.\n"
     ]
    }
   ],
   "source": [
    "#Balancing dataset \n",
    "import tensorflow as tf\n",
    "import numpy as np\n",
    "import pandas as pd\n",
    "from glob import glob\n",
    "from keras.preprocessing.image import ImageDataGenerator\n",
    "\n",
    "\n",
    "\n",
    "\n",
    "labels = [] # Create some unbalanced dataset\n",
    "normal_files = glob('/Users/jangjaeyeong/3학년 2학기/오픈소스소프트웨어/project/chest_xray/train/NORMAL/*.jpeg')\n",
    "\n",
    "for i in range(len(normal_files)):\n",
    "    labels.append('NORMAL')\n",
    "abnormal_files = glob('/Users/jangjaeyeong/3학년 2학기/오픈소스소프트웨어/project/chest_xray/train/PNEUMONIA/*.jpeg')\n",
    "\n",
    "for i in range(len(abnormal_files)):\n",
    "    labels.append('PNEUMONIA')\n",
    "\n",
    "\n",
    "total_files = normal_files+abnormal_files\n",
    "\n",
    "# Create a dataframe\n",
    "df = pd.DataFrame({'img_path':total_files,'label':labels})\n",
    "\n",
    "\n",
    "\n",
    "def balance_data(df,target_size=5000):\n",
    "    df_groups = df.groupby(['label'])\n",
    "    df_balanced = pd.DataFrame({key:[] for key in df.keys()})\n",
    "\n",
    "    for i in df_groups.groups.keys():\n",
    "        df_group = df_groups.get_group(i)\n",
    "        df_label = df_group.sample(frac=1)\n",
    "        current_size = len(df_label)\n",
    "\n",
    "        if current_size >= target_size:\n",
    "            # If current size is big enough, do nothing\n",
    "            pass\n",
    "        else:\n",
    "\n",
    "            # Repeat the current dataset if it is smaller than target_size \n",
    "            repeat, mod = divmod(target_size,current_size)\n",
    "            \n",
    "\n",
    "            df_label_new = pd.concat([df_label]*repeat,ignore_index=True,axis=0)\n",
    "            df_label_remainder = df_group.sample(n=mod)\n",
    "\n",
    "            df_label_new = pd.concat([df_label_new,df_label_remainder],ignore_index=True,axis=0)\n",
    "\n",
    "            # print(df_label_new)\n",
    "\n",
    "        df_balanced = pd.concat([df_balanced,df_label_new],ignore_index=True,axis=0)\n",
    "\n",
    "\n",
    "    return df_balanced\n",
    "\n"
   ]
  },
  {
   "cell_type": "code",
   "execution_count": 21,
   "metadata": {},
   "outputs": [
    {
     "name": "stdout",
     "output_type": "stream",
     "text": [
      "Found 8000 validated image filenames belonging to 2 classes.\n",
      "Found 2000 validated image filenames belonging to 2 classes.\n"
     ]
    }
   ],
   "source": [
    "df_balanced = balance_data(df)\n",
    "\n",
    "\n",
    "train_datagen_1 = ImageDataGenerator(\n",
    "    rotation_range=10,\n",
    "    rescale = 1./255,\n",
    "    shear_range = 0.2,\n",
    "    width_shift_range=0.05,\n",
    "    height_shift_range=0.05,\n",
    "    zoom_range = 0.2,\n",
    "    validation_split=0.2\n",
    "    )\n",
    "# normal =0 , pneumonia = 1\n",
    "train_data_1 = train_datagen_1.flow_from_dataframe(\n",
    "            dataframe=df_balanced,\n",
    "            x_col=\"img_path\",\n",
    "            y_col=\"label\",\n",
    "            class_mode=\"binary\",\n",
    "            target_size =(224,224),\n",
    "            batch_size=64,\n",
    "            shuffle=True,\n",
    "            subset='training'\n",
    "            )\n",
    "val_data = train_datagen_1.flow_from_dataframe(\n",
    "            dataframe=df_balanced,\n",
    "            x_col=\"img_path\",\n",
    "            y_col=\"label\",\n",
    "            class_mode=\"binary\",\n",
    "            target_size =(224,224),\n",
    "            batch_size=64,\n",
    "            shuffle=True,\n",
    "            subset='validation'\n",
    "            )\n",
    "\n",
    "\n",
    "test_gen = tf.keras.preprocessing.image.ImageDataGenerator(rescale= 1./225)\n"
   ]
  },
  {
   "cell_type": "code",
   "execution_count": 22,
   "metadata": {},
   "outputs": [
    {
     "name": "stdout",
     "output_type": "stream",
     "text": [
      "Found 624 images belonging to 2 classes.\n"
     ]
    }
   ],
   "source": [
    "test_dir = '/Users/jangjaeyeong/3학년 2학기/오픈소스소프트웨어/project/chest_xray/test'\n",
    "\n",
    "test_data = test_gen.flow_from_directory(test_dir,\n",
    "                                         target_size = (224,224),\n",
    "                                         class_mode = \"binary\",\n",
    "                                         batch_size = 64,\n",
    "                                         )"
   ]
  },
  {
   "cell_type": "code",
   "execution_count": 31,
   "metadata": {},
   "outputs": [],
   "source": [
    "#Resnet50을 재사용\n",
    "from tensorflow.keras import layers\n",
    "\n",
    "base_model = tf.keras.applications.ResNet50V2(include_top= False, input_shape=(224,224,3), weights= \"imagenet\")\n"
   ]
  },
  {
   "cell_type": "code",
   "execution_count": 32,
   "metadata": {},
   "outputs": [],
   "source": [
    "for layer in base_model.layers:\n",
    "    base_model.trainable = False\n",
    "\n",
    "resnet_model = tf.keras.Sequential([\n",
    "                                    base_model,\n",
    "                                    layers.GlobalAveragePooling2D(),\n",
    "                                    layers.Dense(1, activation=\"sigmoid\")\n",
    "])"
   ]
  },
  {
   "cell_type": "code",
   "execution_count": 33,
   "metadata": {},
   "outputs": [
    {
     "name": "stdout",
     "output_type": "stream",
     "text": [
      "Model: \"sequential_4\"\n",
      "_________________________________________________________________\n",
      "Layer (type)                 Output Shape              Param #   \n",
      "=================================================================\n",
      "resnet50v2 (Model)           (None, 7, 7, 2048)        23564800  \n",
      "_________________________________________________________________\n",
      "global_average_pooling2d_4 ( (None, 2048)              0         \n",
      "_________________________________________________________________\n",
      "dense_4 (Dense)              (None, 1)                 2049      \n",
      "=================================================================\n",
      "Total params: 23,566,849\n",
      "Trainable params: 2,049\n",
      "Non-trainable params: 23,564,800\n",
      "_________________________________________________________________\n"
     ]
    }
   ],
   "source": [
    "resnet_model.summary()"
   ]
  },
  {
   "cell_type": "code",
   "execution_count": 34,
   "metadata": {},
   "outputs": [],
   "source": [
    "resnet_model.compile(\n",
    "    loss = tf.keras.losses.binary_crossentropy,\n",
    "    optimizer = tf.keras.optimizers.Adam(learning_rate= 0.001),\n",
    "    metrics = [\"accuracy\"]\n",
    ")"
   ]
  },
  {
   "cell_type": "code",
   "execution_count": 35,
   "metadata": {},
   "outputs": [
    {
     "name": "stdout",
     "output_type": "stream",
     "text": [
      "Train for 125 steps, validate for 32 steps\n",
      "Epoch 1/10\n",
      "125/125 [==============================] - 976s 8s/step - loss: 0.3005 - accuracy: 0.8804 - val_loss: 1.9000 - val_accuracy: 0.1695\n",
      "Epoch 2/10\n",
      "125/125 [==============================] - 960s 8s/step - loss: 0.1854 - accuracy: 0.9309 - val_loss: 1.3316 - val_accuracy: 0.3965\n",
      "Epoch 3/10\n",
      "125/125 [==============================] - 931s 7s/step - loss: 0.1582 - accuracy: 0.9417 - val_loss: 0.6106 - val_accuracy: 0.6875\n",
      "Epoch 4/10\n",
      "125/125 [==============================] - 928s 7s/step - loss: 0.1515 - accuracy: 0.9451 - val_loss: 1.1043 - val_accuracy: 0.4955\n",
      "Epoch 5/10\n",
      "125/125 [==============================] - 925s 7s/step - loss: 0.1460 - accuracy: 0.9464 - val_loss: 0.4329 - val_accuracy: 0.8015\n",
      "Epoch 6/10\n",
      "125/125 [==============================] - 928s 7s/step - loss: 0.1334 - accuracy: 0.9539 - val_loss: 0.6637 - val_accuracy: 0.6865\n",
      "Epoch 7/10\n",
      "125/125 [==============================] - 1019s 8s/step - loss: 0.1343 - accuracy: 0.9501 - val_loss: 0.9111 - val_accuracy: 0.6025\n",
      "Epoch 8/10\n",
      "125/125 [==============================] - 1412s 11s/step - loss: 0.1290 - accuracy: 0.9505 - val_loss: 0.5176 - val_accuracy: 0.7710\n",
      "Epoch 9/10\n",
      "125/125 [==============================] - 869s 7s/step - loss: 0.1263 - accuracy: 0.9544 - val_loss: 0.8831 - val_accuracy: 0.6250\n",
      "Epoch 10/10\n",
      "125/125 [==============================] - 1593s 13s/step - loss: 0.1233 - accuracy: 0.9555 - val_loss: 0.6112 - val_accuracy: 0.7315\n"
     ]
    }
   ],
   "source": [
    "#1번 데이터 먼저 학습\n",
    "early_stopping_cb = tf.keras.callbacks.EarlyStopping(patience=5,restore_best_weights=True)\n",
    "\n",
    "\n",
    "history = resnet_model.fit(train_data_1,\n",
    "                 epochs = 10,\n",
    "                 steps_per_epoch= len(train_data_1),\n",
    "                 validation_data = val_data,\n",
    "                 validation_steps = len(val_data),\n",
    "                 callbacks = [early_stopping_cb]\n",
    "                 )"
   ]
  },
  {
   "cell_type": "code",
   "execution_count": 38,
   "metadata": {},
   "outputs": [],
   "source": [
    "resnet_model.save_weights('1_all_nontrainable.h5')"
   ]
  },
  {
   "cell_type": "code",
   "execution_count": 39,
   "metadata": {},
   "outputs": [
    {
     "name": "stdout",
     "output_type": "stream",
     "text": [
      "10/10 [==============================] - 52s 5s/step - loss: 0.3536 - accuracy: 0.8638\n"
     ]
    }
   ],
   "source": [
    "resnet_model_evaluation = resnet_model.evaluate(test_data)"
   ]
  },
  {
   "cell_type": "code",
   "execution_count": 40,
   "metadata": {},
   "outputs": [
    {
     "name": "stdout",
     "output_type": "stream",
     "text": [
      "Resnet Model Accuracy:  86.38%\n"
     ]
    }
   ],
   "source": [
    "print(f\"Resnet Model Accuracy: {resnet_model_evaluation[1]*100: 0.2f}%\")"
   ]
  },
  {
   "cell_type": "code",
   "execution_count": 41,
   "metadata": {},
   "outputs": [
    {
     "data": {
      "image/png": "[encoded data removed]",
      "text/plain": [
       "<Figure size 432x288 with 1 Axes>"
      ]
     },
     "metadata": {
      "needs_background": "light"
     },
     "output_type": "display_data"
    }
   ],
   "source": [
    "import matplotlib.pyplot as plt\n",
    "#accuracy plot\n",
    "plt.plot(history.history['accuracy'])\n",
    "plt.plot(history.history['val_accuracy'])\n",
    "plt.title('Model accuracy')\n",
    "plt.xlabel('Epoch')\n",
    "plt.ylabel('Accuracy')\n",
    "plt.legend(['Train', 'Validation'], loc='upper left')\n",
    "plt.show()"
   ]
  },
  {
   "cell_type": "code",
   "execution_count": 42,
   "metadata": {
    "scrolled": true
   },
   "outputs": [
    {
     "data": {
      "image/png": "[encoded data removed]",
      "text/plain": [
       "<Figure size 432x288 with 1 Axes>"
      ]
     },
     "metadata": {
      "needs_background": "light"
     },
     "output_type": "display_data"
    }
   ],
   "source": [
    "#loss plot\n",
    "plt.plot(history.history['loss'])\n",
    "plt.plot(history.history['val_loss'])\n",
    "plt.title('Model loss')\n",
    "plt.xlabel('Epoch')\n",
    "plt.ylabel('Loss')\n",
    "plt.legend(['Train', 'Validation'], loc='upper left')\n",
    "plt.show()"
   ]
  },
  {
   "cell_type": "code",
   "execution_count": 45,
   "metadata": {},
   "outputs": [
    {
     "name": "stdout",
     "output_type": "stream",
     "text": [
      "Train for 125 steps, validate for 32 steps\n",
      "Epoch 1/10\n",
      "125/125 [==============================] - 921s 7s/step - loss: 0.1371 - accuracy: 0.9486 - val_loss: 0.7524 - val_accuracy: 0.6535\n",
      "Epoch 2/10\n",
      "125/125 [==============================] - 924s 7s/step - loss: 0.1278 - accuracy: 0.9549 - val_loss: 0.9251 - val_accuracy: 0.6070\n",
      "Epoch 3/10\n",
      "125/125 [==============================] - 30212s 242s/step - loss: 0.1276 - accuracy: 0.9531 - val_loss: 0.5436 - val_accuracy: 0.7570\n",
      "Epoch 4/10\n",
      "125/125 [==============================] - 913s 7s/step - loss: 0.1270 - accuracy: 0.9538 - val_loss: 0.5482 - val_accuracy: 0.7480\n",
      "Epoch 5/10\n",
      "125/125 [==============================] - 1075s 9s/step - loss: 0.1213 - accuracy: 0.9540 - val_loss: 0.3946 - val_accuracy: 0.8165\n",
      "Epoch 6/10\n",
      "125/125 [==============================] - 832s 7s/step - loss: 0.1231 - accuracy: 0.9534 - val_loss: 0.5661 - val_accuracy: 0.7575\n",
      "Epoch 7/10\n",
      "125/125 [==============================] - 1150s 9s/step - loss: 0.1170 - accuracy: 0.9567 - val_loss: 0.2700 - val_accuracy: 0.8865\n",
      "Epoch 8/10\n",
      "125/125 [==============================] - 829s 7s/step - loss: 0.1161 - accuracy: 0.9576 - val_loss: 0.3695 - val_accuracy: 0.8390\n",
      "Epoch 9/10\n",
      "125/125 [==============================] - 1371s 11s/step - loss: 0.1172 - accuracy: 0.9580 - val_loss: 0.3336 - val_accuracy: 0.8580\n",
      "Epoch 10/10\n",
      "125/125 [==============================] - 835s 7s/step - loss: 0.1139 - accuracy: 0.9589 - val_loss: 0.5079 - val_accuracy: 0.7775\n"
     ]
    }
   ],
   "source": [
    "for layer in base_model.layers[:-5]:\n",
    "    base_model.trainable = False\n",
    "    \n",
    "\n",
    "resnet_model = tf.keras.Sequential([\n",
    "                                    base_model,\n",
    "                                    layers.GlobalAveragePooling2D(),\n",
    "                                    layers.Dense(1, activation=\"sigmoid\")\n",
    "])\n",
    "resnet_model.load_weights('1_all_nontrainable.h5')\n",
    "\n",
    "resnet_model.compile(\n",
    "    loss = tf.keras.losses.binary_crossentropy,\n",
    "    optimizer = tf.keras.optimizers.Adam(learning_rate= 0.001),\n",
    "    metrics = [\"accuracy\"]\n",
    ")\n",
    "early_stopping_cb = tf.keras.callbacks.EarlyStopping(patience=5,restore_best_weights=True)\n",
    "\n",
    "\n",
    "history = resnet_model.fit(train_data_1,\n",
    "                 epochs = 10,\n",
    "                 steps_per_epoch= len(train_data_1),\n",
    "                 validation_data = val_data,\n",
    "                 validation_steps = len(val_data),\n",
    "                 callbacks = [early_stopping_cb]\n",
    "                 )\n",
    "\n",
    "resnet_model.save_weights('1_5_layer_nontrainable.h5')\n"
   ]
  },
  {
   "cell_type": "code",
   "execution_count": 46,
   "metadata": {},
   "outputs": [
    {
     "name": "stdout",
     "output_type": "stream",
     "text": [
      "10/10 [==============================] - 46s 5s/step - loss: 0.3562 - accuracy: 0.8670\n",
      "Resnet Model Accuracy:  86.70%\n"
     ]
    }
   ],
   "source": [
    "resnet_model_evaluation = resnet_model.evaluate(test_data)\n",
    "print(f\"Resnet Model Accuracy: {resnet_model_evaluation[1]*100: 0.2f}%\")"
   ]
  },
  {
   "cell_type": "code",
   "execution_count": 48,
   "metadata": {},
   "outputs": [
    {
     "data": {
      "image/png": "[encoded data removed]",
      "text/plain": [
       "<Figure size 432x288 with 1 Axes>"
      ]
     },
     "metadata": {
      "needs_background": "light"
     },
     "output_type": "display_data"
    }
   ],
   "source": [
    "\n",
    "#accuracy plot\n",
    "plt.plot(history.history['accuracy'])\n",
    "plt.plot(history.history['val_accuracy'])\n",
    "plt.title('Model accuracy')\n",
    "plt.xlabel('Epoch')\n",
    "plt.ylabel('Accuracy')\n",
    "plt.legend(['Train', 'Validation'], loc='upper left')\n",
    "plt.show()"
   ]
  },
  {
   "cell_type": "code",
   "execution_count": 49,
   "metadata": {},
   "outputs": [
    {
     "data": {
      "image/png": "[encoded data removed]",
      "text/plain": [
       "<Figure size 432x288 with 1 Axes>"
      ]
     },
     "metadata": {
      "needs_background": "light"
     },
     "output_type": "display_data"
    }
   ],
   "source": [
    "#loss plot\n",
    "plt.plot(history.history['loss'])\n",
    "plt.plot(history.history['val_loss'])\n",
    "plt.title('Model loss')\n",
    "plt.xlabel('Epoch')\n",
    "plt.ylabel('Loss')\n",
    "plt.legend(['Train', 'Validation'], loc='upper left')\n",
    "plt.show()"
   ]
  },
  {
   "cell_type": "code",
   "execution_count": null,
   "metadata": {},
   "outputs": [],
   "source": []
  }
 ],
 "metadata": {
  "kernelspec": {
   "display_name": "aiclass",
   "language": "python",
   "name": "aiclass"
  },
  "language_info": {
   "codemirror_mode": {
    "name": "ipython",
    "version": 3
   },
   "file_extension": ".py",
   "mimetype": "text/x-python",
   "name": "python",
   "nbconvert_exporter": "python",
   "pygments_lexer": "ipython3",
   "version": "3.7.7"
  }
 },
 "nbformat": 4,
 "nbformat_minor": 4
}
