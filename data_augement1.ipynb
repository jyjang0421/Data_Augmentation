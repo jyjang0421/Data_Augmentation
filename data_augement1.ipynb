{
 "cells": [
  {
   "cell_type": "code",
   "execution_count": 2,
   "metadata": {},
   "outputs": [
    {
     "name": "stderr",
     "output_type": "stream",
     "text": [
      "Using TensorFlow backend.\n"
     ]
    }
   ],
   "source": [
    "#Balancing dataset \n",
    "import tensorflow as tf\n",
    "import numpy as np\n",
    "import pandas as pd\n",
    "from glob import glob\n",
    "from keras.preprocessing.image import ImageDataGenerator\n",
    "\n",
    "\n",
    "\n",
    "\n",
    "labels = [] # Create some unbalanced dataset\n",
    "normal_files = glob('/Users/jangjaeyeong/3학년 2학기/기계학습/project/chest_xray/train/NORMAL/*.jpeg')\n",
    "\n",
    "for i in range(len(normal_files)):\n",
    "    labels.append('NORMAL')\n",
    "abnormal_files = glob('/Users/jangjaeyeong/3학년 2학기/기계학습/project/chest_xray/train/PNEUMONIA/*.jpeg')\n",
    "\n",
    "for i in range(len(abnormal_files)):\n",
    "    labels.append('PNEUMONIA')\n",
    "\n",
    "\n",
    "total_files = normal_files+abnormal_files\n",
    "\n",
    "# Create a dataframe\n",
    "df = pd.DataFrame({'img_path':total_files,'label':labels})\n",
    "\n",
    "\n",
    "\n",
    "def balance_data(df,target_size=5000):\n",
    "    df_groups = df.groupby(['label'])\n",
    "    df_balanced = pd.DataFrame({key:[] for key in df.keys()})\n",
    "\n",
    "    for i in df_groups.groups.keys():\n",
    "        df_group = df_groups.get_group(i)\n",
    "        df_label = df_group.sample(frac=1)\n",
    "        current_size = len(df_label)\n",
    "\n",
    "        if current_size >= target_size:\n",
    "            # If current size is big enough, do nothing\n",
    "            pass\n",
    "        else:\n",
    "\n",
    "            # Repeat the current dataset if it is smaller than target_size \n",
    "            repeat, mod = divmod(target_size,current_size)\n",
    "            \n",
    "\n",
    "            df_label_new = pd.concat([df_label]*repeat,ignore_index=True,axis=0)\n",
    "            df_label_remainder = df_group.sample(n=mod)\n",
    "\n",
    "            df_label_new = pd.concat([df_label_new,df_label_remainder],ignore_index=True,axis=0)\n",
    "\n",
    "            # print(df_label_new)\n",
    "\n",
    "        df_balanced = pd.concat([df_balanced,df_label_new],ignore_index=True,axis=0)\n",
    "\n",
    "\n",
    "    return df_balanced\n",
    "\n"
   ]
  },
  {
   "cell_type": "code",
   "execution_count": 3,
   "metadata": {},
   "outputs": [
    {
     "name": "stdout",
     "output_type": "stream",
     "text": [
      "Found 10000 validated image filenames belonging to 2 classes.\n",
      "Found 10000 validated image filenames belonging to 2 classes.\n"
     ]
    }
   ],
   "source": [
    "df_balanced = balance_data(df)\n",
    "\n",
    "\n",
    "train_datagen_1 = ImageDataGenerator(\n",
    "    rotation_range=10,\n",
    "    rescale = 1./255,\n",
    "    shear_range = 0.2,\n",
    "    width_shift_range=0.05,\n",
    "    height_shift_range=0.05,\n",
    "    zoom_range = 0.2\n",
    "    )\n",
    "# normal =0 , pneumonia = 1\n",
    "train_data_1 = train_datagen_1.flow_from_dataframe(\n",
    "            dataframe=df_balanced,\n",
    "            x_col=\"img_path\",\n",
    "            y_col=\"label\",\n",
    "            class_mode=\"binary\",\n",
    "            target_size =(224,224),\n",
    "            batch_size=64,\n",
    "            shuffle=True\n",
    "            )\n",
    "\n",
    "train_datagen_2 = ImageDataGenerator(\n",
    "    rotation_range=10,\n",
    "    rescale = 1./255,\n",
    "    shear_range = 0.1,\n",
    "    width_shift_range=0.1,\n",
    "    height_shift_range=0.1,\n",
    "    zoom_range = 0.1\n",
    "    )\n",
    "# normal =1 , pneumonia = 0\n",
    "train_data_2 = train_datagen_2.flow_from_dataframe(\n",
    "            dataframe=df_balanced,\n",
    "            x_col=\"img_path\",\n",
    "            y_col=\"label\",\n",
    "            class_mode=\"binary\",\n",
    "            target_size =(224,224),\n",
    "            batch_size=64,\n",
    "            shuffle=True\n",
    "            )\n",
    "test_gen = tf.keras.preprocessing.image.ImageDataGenerator(rescale= 1./225)\n",
    "val_gen = tf.keras.preprocessing.image.ImageDataGenerator(rescale= 1./225)"
   ]
  },
  {
   "cell_type": "code",
   "execution_count": 4,
   "metadata": {},
   "outputs": [
    {
     "name": "stdout",
     "output_type": "stream",
     "text": [
      "Found 624 images belonging to 2 classes.\n",
      "Found 16 images belonging to 2 classes.\n"
     ]
    }
   ],
   "source": [
    "test_dir = '/Users/jangjaeyeong/3학년 2학기/기계학습/project/chest_xray/test'\n",
    "val_dir = '/Users/jangjaeyeong/3학년 2학기/기계학습/project/chest_xray/val'\n",
    "\n",
    "test_data = test_gen.flow_from_directory(test_dir,\n",
    "                                         target_size = (224,224),\n",
    "                                         class_mode = \"binary\",\n",
    "                                         batch_size = 64,\n",
    "                                         )\n",
    "val_data = val_gen.flow_from_directory(val_dir,\n",
    "                                       target_size = (224,224),\n",
    "                                       class_mode = \"binary\",\n",
    "                                       batch_size = 64,\n",
    "                                       shuffle =True\n",
    "                                       )"
   ]
  },
  {
   "cell_type": "code",
   "execution_count": 5,
   "metadata": {},
   "outputs": [
    {
     "name": "stdout",
     "output_type": "stream",
     "text": [
      "Downloading data from https://github.com/keras-team/keras-applications/releases/download/resnet/resnet50_weights_tf_dim_ordering_tf_kernels_notop.h5\n",
      "94773248/94765736 [==============================] - 11s 0us/step\n"
     ]
    }
   ],
   "source": [
    "#Resnet50을 재사용\n",
    "from tensorflow.keras import layers\n",
    "\n",
    "base_model = tf.keras.applications.resnet50.ResNet50(include_top= False, input_shape=(224,224,3), weights= \"imagenet\")\n"
   ]
  },
  {
   "cell_type": "code",
   "execution_count": 6,
   "metadata": {},
   "outputs": [],
   "source": [
    "for layer in base_model.layers:\n",
    "    base_model.trainable = False\n",
    "\n",
    "resnet_model = tf.keras.Sequential([\n",
    "                                    base_model,\n",
    "                                    layers.GlobalAveragePooling2D(),\n",
    "                                    layers.Dense(1, activation=\"sigmoid\")\n",
    "])"
   ]
  },
  {
   "cell_type": "code",
   "execution_count": 7,
   "metadata": {},
   "outputs": [
    {
     "name": "stdout",
     "output_type": "stream",
     "text": [
      "Model: \"sequential\"\n",
      "_________________________________________________________________\n",
      "Layer (type)                 Output Shape              Param #   \n",
      "=================================================================\n",
      "resnet50 (Model)             (None, 7, 7, 2048)        23587712  \n",
      "_________________________________________________________________\n",
      "global_average_pooling2d (Gl (None, 2048)              0         \n",
      "_________________________________________________________________\n",
      "dense (Dense)                (None, 1)                 2049      \n",
      "=================================================================\n",
      "Total params: 23,589,761\n",
      "Trainable params: 2,049\n",
      "Non-trainable params: 23,587,712\n",
      "_________________________________________________________________\n"
     ]
    }
   ],
   "source": [
    "resnet_model.summary()"
   ]
  },
  {
   "cell_type": "code",
   "execution_count": 8,
   "metadata": {},
   "outputs": [],
   "source": [
    "resnet_model.compile(\n",
    "    loss = tf.keras.losses.binary_crossentropy,\n",
    "    optimizer = tf.keras.optimizers.Adam(lr= 0.001),\n",
    "    metrics = [\"accuracy\"]\n",
    ")"
   ]
  },
  {
   "cell_type": "code",
   "execution_count": 10,
   "metadata": {},
   "outputs": [
    {
     "name": "stdout",
     "output_type": "stream",
     "text": [
      "Train for 157 steps, validate for 1 steps\n",
      "Epoch 1/10\n",
      "157/157 [==============================] - 1066s 7s/step - loss: 0.2438 - accuracy: 0.9066 - val_loss: 2.0900 - val_accuracy: 0.5000\n",
      "Epoch 2/10\n",
      "157/157 [==============================] - 1113s 7s/step - loss: 0.1433 - accuracy: 0.9478 - val_loss: 2.7167 - val_accuracy: 0.5000\n",
      "Epoch 3/10\n",
      "157/157 [==============================] - 1118s 7s/step - loss: 0.1251 - accuracy: 0.9549 - val_loss: 3.0302 - val_accuracy: 0.5000\n",
      "Epoch 4/10\n",
      "157/157 [==============================] - 1113s 7s/step - loss: 0.1110 - accuracy: 0.9598 - val_loss: 3.2547 - val_accuracy: 0.5000\n",
      "Epoch 5/10\n",
      "157/157 [==============================] - 1121s 7s/step - loss: 0.1042 - accuracy: 0.9632 - val_loss: 3.4420 - val_accuracy: 0.5000\n",
      "Epoch 6/10\n",
      "157/157 [==============================] - 1104s 7s/step - loss: 0.0990 - accuracy: 0.9657 - val_loss: 3.6853 - val_accuracy: 0.5000\n"
     ]
    }
   ],
   "source": [
    "#1번 데이터 먼저 학습\n",
    "early_stopping_cb = tf.keras.callbacks.EarlyStopping(patience=5)\n",
    "\n",
    "\n",
    "history = resnet_model.fit(train_data_1,\n",
    "                 epochs = 10,\n",
    "                 steps_per_epoch= len(train_data_1),\n",
    "                 validation_data = val_data,\n",
    "                 validation_steps = len(val_data),\n",
    "                 callbacks = [early_stopping_cb]\n",
    "                 )"
   ]
  },
  {
   "cell_type": "code",
   "execution_count": 11,
   "metadata": {},
   "outputs": [],
   "source": [
    "resnet_model.save_weights('1_all_nontrainable.h5')"
   ]
  },
  {
   "cell_type": "code",
   "execution_count": 12,
   "metadata": {},
   "outputs": [
    {
     "name": "stdout",
     "output_type": "stream",
     "text": [
      "10/10 [==============================] - 56s 6s/step - loss: 2.7993 - accuracy: 0.6250\n"
     ]
    }
   ],
   "source": [
    "resnet_model_evaluation = resnet_model.evaluate(test_data)"
   ]
  },
  {
   "cell_type": "code",
   "execution_count": 13,
   "metadata": {},
   "outputs": [
    {
     "name": "stdout",
     "output_type": "stream",
     "text": [
      "Resnet Model Accuracy:  62.50%\n"
     ]
    }
   ],
   "source": [
    "print(f\"Resnet Model Accuracy: {resnet_model_evaluation[1]*100: 0.2f}%\")"
   ]
  },
  {
   "cell_type": "code",
   "execution_count": 16,
   "metadata": {},
   "outputs": [
    {
     "data": {
      "image/png": "[encoded data removed]",
      "text/plain": [
       "<Figure size 432x288 with 1 Axes>"
      ]
     },
     "metadata": {
      "needs_background": "light"
     },
     "output_type": "display_data"
    }
   ],
   "source": [
    "import matplotlib.pyplot as plt\n",
    "#accuracy plot\n",
    "plt.plot(history.history['accuracy'])\n",
    "plt.plot(history.history['val_accuracy'])\n",
    "plt.title('Model accuracy')\n",
    "plt.xlabel('Epoch')\n",
    "plt.ylabel('Accuracy')\n",
    "plt.legend(['Train', 'Validation'], loc='upper left')\n",
    "plt.show()"
   ]
  },
  {
   "cell_type": "code",
   "execution_count": 17,
   "metadata": {},
   "outputs": [
    {
     "data": {
      "image/png": "[encoded data removed]",
      "text/plain": [
       "<Figure size 432x288 with 1 Axes>"
      ]
     },
     "metadata": {
      "needs_background": "light"
     },
     "output_type": "display_data"
    }
   ],
   "source": [
    "#loss plot\n",
    "plt.plot(history.history['loss'])\n",
    "plt.plot(history.history['val_loss'])\n",
    "plt.title('Model loss')\n",
    "plt.xlabel('Epoch')\n",
    "plt.ylabel('Loss')\n",
    "plt.legend(['Train', 'Validation'], loc='upper left')\n",
    "plt.show()"
   ]
  },
  {
   "cell_type": "code",
   "execution_count": null,
   "metadata": {},
   "outputs": [
    {
     "name": "stdout",
     "output_type": "stream",
     "text": [
      "Train for 157 steps, validate for 1 steps\n",
      "Epoch 1/10\n",
      "157/157 [==============================] - 1105s 7s/step - loss: 0.0961 - accuracy: 0.9645 - val_loss: 3.9498 - val_accuracy: 0.5000\n",
      "Epoch 2/10\n",
      "157/157 [==============================] - 1099s 7s/step - loss: 0.0929 - accuracy: 0.9669 - val_loss: 4.1640 - val_accuracy: 0.5000\n",
      "Epoch 3/10\n"
     ]
    }
   ],
   "source": [
    "for layer in base_model.layers[:-5]:\n",
    "    base_model.trainable = False\n",
    "    \n",
    "\n",
    "resnet_model = tf.keras.Sequential([\n",
    "                                    base_model,\n",
    "                                    layers.GlobalAveragePooling2D(),\n",
    "                                    layers.Dense(1, activation=\"sigmoid\")\n",
    "])\n",
    "resnet_model.load_weights('1_all_nontrainable.h5')\n",
    "\n",
    "resnet_model.compile(\n",
    "    loss = tf.keras.losses.binary_crossentropy,\n",
    "    optimizer = tf.keras.optimizers.Adam(lr= 0.001),\n",
    "    metrics = [\"accuracy\"]\n",
    ")\n",
    "\n",
    "early_stopping_cb = tf.keras.callbacks.EarlyStopping(patience=5)\n",
    "\n",
    "history = resnet_model.fit(train_data_1,\n",
    "                 epochs = 10,\n",
    "                 steps_per_epoch= len(train_data_1),\n",
    "                 validation_data = val_data,\n",
    "                 validation_steps = len(val_data),\n",
    "                 callbacks = [early_stopping_cb]\n",
    "                 )\n",
    "\n",
    "resnet_model.save_weights('1_5_layer_nontrainable.h5')\n"
   ]
  },
  {
   "cell_type": "code",
   "execution_count": null,
   "metadata": {},
   "outputs": [],
   "source": [
    "resnet_model_evaluation = resnet_model.evaluate(test_data)\n",
    "print(f\"Resnet Model Accuracy: {resnet_model_evaluation[1]*100: 0.2f}%\")"
   ]
  },
  {
   "cell_type": "code",
   "execution_count": null,
   "metadata": {},
   "outputs": [],
   "source": [
    "\n",
    "#accuracy plot\n",
    "plt.plot(history.history['acc'])\n",
    "plt.plot(history.history['val_acc'])\n",
    "plt.title('Model accuracy')\n",
    "plt.xlabel('Epoch')\n",
    "plt.ylabel('Accuracy')\n",
    "plt.legend(['Train', 'Validation'], loc='upper left')\n",
    "plt.show()"
   ]
  },
  {
   "cell_type": "code",
   "execution_count": null,
   "metadata": {},
   "outputs": [],
   "source": [
    "#loss plot\n",
    "plt.plot(history.history['loss'])\n",
    "plt.plot(history.history['val_loss'])\n",
    "plt.title('Model loss')\n",
    "plt.xlabel('Epoch')\n",
    "plt.ylabel('Loss')\n",
    "plt.legend(['Train', 'Validation'], loc='upper left')\n",
    "plt.show()"
   ]
  },
  {
   "cell_type": "code",
   "execution_count": null,
   "metadata": {},
   "outputs": [],
   "source": []
  }
 ],
 "metadata": {
  "kernelspec": {
   "display_name": "aiclass",
   "language": "python",
   "name": "aiclass"
  }
 },
 "nbformat": 4,
 "nbformat_minor": 4
}
